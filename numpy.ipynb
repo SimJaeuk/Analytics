{
  "nbformat": 4,
  "nbformat_minor": 0,
  "metadata": {
    "colab": {
      "name": "numpy.ipynb",
      "provenance": [],
      "collapsed_sections": [],
      "authorship_tag": "ABX9TyM+J0W8z3uA7zGuN1BVB685"
    },
    "kernelspec": {
      "name": "python3",
      "display_name": "Python 3"
    },
    "language_info": {
      "name": "python"
    }
  },
  "cells": [
    {
      "cell_type": "code",
      "metadata": {
        "id": "itRSEYF7Cwq-"
      },
      "source": [
        "import numpy as np\n",
        "from sklearn.naive_bayes import GaussianNB\n",
        "from sklearn.metrics import accuracy_score"
      ],
      "execution_count": 3,
      "outputs": []
    },
    {
      "cell_type": "code",
      "metadata": {
        "id": "TR5FJTG4C2QG",
        "colab": {
          "base_uri": "https://localhost:8080/"
        },
        "outputId": "e88fa48c-bfb4-49ea-a7cd-9569e3b07b68"
      },
      "source": [
        "# Unicode 코드 포인트로 출현 빈도 판정하기\n",
        "def count_codePoint(str):\n",
        "    # Unicode 코드 포인트를 저장할 배열 준비하기 \n",
        "    counter = np.zeros(65535)\n",
        "\n",
        "    for i in range(len(str)):\n",
        "        # 각 문자를 Unicode 코드 포인트로 변환하기\n",
        "        code_point = ord(str[i])\n",
        "        if code_point > 65535 :\n",
        "            continue\n",
        "        # 출현 횟수 세기\n",
        "        counter[code_point] += 1\n",
        "\n",
        "    # 각 요소를 문자 수로 나눠 정규화하기\n",
        "    counter = counter/len(str)\n",
        "    return counter\n",
        "\n",
        "# 학습 전용 데이터 준비하기\n",
        "ko_str = '이것은 한국어 문장입니다.'\n",
        "ja_str = 'これは日本語の文章です'\n",
        "en_str = 'This is English Sentences.'\n",
        "\n",
        "x_train = [count_codePoint(ko_str),count_codePoint(ja_str),count_codePoint(en_str)]\n",
        "y_train = ['ko','ja','en']\n",
        "\n",
        "# 학습하기\n",
        "clf = GaussianNB() \n",
        "clf.fit(x_train, y_train)\n",
        "\n",
        "# 평가 전용 데이터 준비하기\n",
        "ko_test_str = '안녕하세요'\n",
        "ja_test_str = 'こんにちは'\n",
        "en_test_str = 'Hello'\n",
        "\n",
        "x_test = [count_codePoint(en_test_str),count_codePoint(ja_test_str),count_codePoint(ko_test_str)]\n",
        "y_test = ['en','ja', 'ko']\n",
        "\n",
        "# 평가하기\n",
        "y_pred = clf.predict(x_test)\n",
        "print(y_pred)\n",
        "print(\"정답률 = \" ,accuracy_score(y_test, y_pred))"
      ],
      "execution_count": null,
      "outputs": [
        {
          "output_type": "stream",
          "text": [
            "['en' 'ja' 'ko']\n",
            "정답률 =  1.0\n"
          ],
          "name": "stdout"
        }
      ]
    },
    {
      "cell_type": "code",
      "metadata": {
        "id": "QfLeJmF7FWqs"
      },
      "source": [
        "import numpy as np\n",
        "from sklearn.naive_bayes import GaussianNB\n",
        "from sklearn.metrics import accuracy_score\n",
        "import glob\n",
        "\n",
        "# Unicode 코드 포인트로 출현 빈도 판정하기\n",
        "def count_codePoint(str):\n",
        "    # Unicode 코드 포인트를 저장할 배열 준비하기\n",
        "    counter = np.zeros(65535)\n",
        "\n",
        "    for i in range(len(str)):\n",
        "        # 각 문자를 Unicode 코드 포인트로 변환하기\n",
        "        code_point = ord(str[i])\n",
        "        if code_point > 65535 :\n",
        "            continue\n",
        "        # 출현 횟수 세기\n",
        "        counter[code_point] += 1\n",
        "\n",
        "    # 각 요소를 문자 수로 나눠 정규화하기\n",
        "    counter = counter/len(str)\n",
        "    return counter    "
      ],
      "execution_count": 4,
      "outputs": []
    },
    {
      "cell_type": "code",
      "metadata": {
        "colab": {
          "base_uri": "https://localhost:8080/"
        },
        "id": "dlRj7oBDcMAp",
        "outputId": "2bc5511a-457f-4e21-ba71-3915f846a3b4"
      },
      "source": [
        "# 학습 데이터 준비하기\n",
        "index = 0\n",
        "x_train = []\n",
        "y_train = []\n",
        "for file in glob.glob('./train/*.txt'):\n",
        "    # 언어 정보를 추출하고 레이블로 지정하기\n",
        "    y_train.append(file[8:10])\n",
        "    \n",
        "    # 파일 내부의 문자열을 모두 추출한 뒤 빈도 배열로 변환한 뒤 입력 데이터로 사용하기\n",
        "    file_str = ''\n",
        "    for line in open(file, 'r'):\n",
        "        file_str = file_str + line\n",
        "    x_train.append(count_codePoint(file_str))\n",
        "\n",
        "# 학습하기\n",
        "clf = GaussianNB() \n",
        "clf.fit(x_train, y_train)\n",
        "\n",
        "# 평가 데이터 준비하기\n",
        "index = 0\n",
        "x_test = []\n",
        "y_test = []\n",
        "for file in glob.glob('./test/*.txt'):\n",
        "    # 언어 정보를 추출하고 레이블로 지정하기\n",
        "    y_test.append(file[7:9])\n",
        "    \n",
        "    # 파일 내부의 문자열을 모두 추출한 뒤 빈도 배열로 변환한 뒤 입력 데이터로 사용하기\n",
        "    file_str = ''\n",
        "    for line in open(file, 'r'):\n",
        "        file_str = file_str + line\n",
        "    x_test.append(count_codePoint(file_str)) \n",
        "\n",
        "# 평가하기\n",
        "y_pred = clf.predict(x_test)\n",
        "print(y_pred)\n",
        "print(\"정답률 = \" , accuracy_score(y_test, y_pred))"
      ],
      "execution_count": 8,
      "outputs": [
        {
          "output_type": "stream",
          "text": [
            "['de' 'en' 'es']\n",
            "정답률 =  1.0\n"
          ],
          "name": "stdout"
        }
      ]
    },
    {
      "cell_type": "code",
      "metadata": {
        "colab": {
          "base_uri": "https://localhost:8080/"
        },
        "id": "vJOrA1yhcNFo",
        "outputId": "79e38f37-4e4e-4439-95ec-b7437f1b6792"
      },
      "source": [
        "!pip install konlpy\n",
        "from konlpy.tag import Okt"
      ],
      "execution_count": 19,
      "outputs": [
        {
          "output_type": "stream",
          "text": [
            "Collecting konlpy\n",
            "\u001b[?25l  Downloading https://files.pythonhosted.org/packages/85/0e/f385566fec837c0b83f216b2da65db9997b35dd675e107752005b7d392b1/konlpy-0.5.2-py2.py3-none-any.whl (19.4MB)\n",
            "\u001b[K     |████████████████████████████████| 19.4MB 1.3MB/s \n",
            "\u001b[?25hCollecting colorama\n",
            "  Downloading https://files.pythonhosted.org/packages/44/98/5b86278fbbf250d239ae0ecb724f8572af1c91f4a11edf4d36a206189440/colorama-0.4.4-py2.py3-none-any.whl\n",
            "Requirement already satisfied: lxml>=4.1.0 in /usr/local/lib/python3.7/dist-packages (from konlpy) (4.2.6)\n",
            "Collecting beautifulsoup4==4.6.0\n",
            "\u001b[?25l  Downloading https://files.pythonhosted.org/packages/9e/d4/10f46e5cfac773e22707237bfcd51bbffeaf0a576b0a847ec7ab15bd7ace/beautifulsoup4-4.6.0-py3-none-any.whl (86kB)\n",
            "\u001b[K     |████████████████████████████████| 92kB 12.1MB/s \n",
            "\u001b[?25hRequirement already satisfied: numpy>=1.6 in /usr/local/lib/python3.7/dist-packages (from konlpy) (1.19.5)\n",
            "Collecting JPype1>=0.7.0\n",
            "\u001b[?25l  Downloading https://files.pythonhosted.org/packages/98/88/f817ef1af6f794e8f11313dcd1549de833f4599abcec82746ab5ed086686/JPype1-1.3.0-cp37-cp37m-manylinux_2_5_x86_64.manylinux1_x86_64.whl (448kB)\n",
            "\u001b[K     |████████████████████████████████| 450kB 56.9MB/s \n",
            "\u001b[?25hRequirement already satisfied: tweepy>=3.7.0 in /usr/local/lib/python3.7/dist-packages (from konlpy) (3.10.0)\n",
            "Requirement already satisfied: typing-extensions; python_version < \"3.8\" in /usr/local/lib/python3.7/dist-packages (from JPype1>=0.7.0->konlpy) (3.7.4.3)\n",
            "Requirement already satisfied: requests-oauthlib>=0.7.0 in /usr/local/lib/python3.7/dist-packages (from tweepy>=3.7.0->konlpy) (1.3.0)\n",
            "Requirement already satisfied: requests[socks]>=2.11.1 in /usr/local/lib/python3.7/dist-packages (from tweepy>=3.7.0->konlpy) (2.23.0)\n",
            "Requirement already satisfied: six>=1.10.0 in /usr/local/lib/python3.7/dist-packages (from tweepy>=3.7.0->konlpy) (1.15.0)\n",
            "Requirement already satisfied: oauthlib>=3.0.0 in /usr/local/lib/python3.7/dist-packages (from requests-oauthlib>=0.7.0->tweepy>=3.7.0->konlpy) (3.1.0)\n",
            "Requirement already satisfied: chardet<4,>=3.0.2 in /usr/local/lib/python3.7/dist-packages (from requests[socks]>=2.11.1->tweepy>=3.7.0->konlpy) (3.0.4)\n",
            "Requirement already satisfied: certifi>=2017.4.17 in /usr/local/lib/python3.7/dist-packages (from requests[socks]>=2.11.1->tweepy>=3.7.0->konlpy) (2020.12.5)\n",
            "Requirement already satisfied: urllib3!=1.25.0,!=1.25.1,<1.26,>=1.21.1 in /usr/local/lib/python3.7/dist-packages (from requests[socks]>=2.11.1->tweepy>=3.7.0->konlpy) (1.24.3)\n",
            "Requirement already satisfied: idna<3,>=2.5 in /usr/local/lib/python3.7/dist-packages (from requests[socks]>=2.11.1->tweepy>=3.7.0->konlpy) (2.10)\n",
            "Requirement already satisfied: PySocks!=1.5.7,>=1.5.6; extra == \"socks\" in /usr/local/lib/python3.7/dist-packages (from requests[socks]>=2.11.1->tweepy>=3.7.0->konlpy) (1.7.1)\n",
            "Installing collected packages: colorama, beautifulsoup4, JPype1, konlpy\n",
            "  Found existing installation: beautifulsoup4 4.6.3\n",
            "    Uninstalling beautifulsoup4-4.6.3:\n",
            "      Successfully uninstalled beautifulsoup4-4.6.3\n",
            "Successfully installed JPype1-1.3.0 beautifulsoup4-4.6.0 colorama-0.4.4 konlpy-0.5.2\n"
          ],
          "name": "stdout"
        }
      ]
    },
    {
      "cell_type": "code",
      "metadata": {
        "colab": {
          "base_uri": "https://localhost:8080/"
        },
        "id": "clt4FUkyh8KW",
        "outputId": "cde517cd-1781-4c5e-f998-cfd35db76808"
      },
      "source": [
        "okt = Okt()\n",
        "\n",
        "malist = okt.pos(\"아버지 가방에 들어가신다.\", norm=True, stem=True) \n",
        "print(malist)"
      ],
      "execution_count": 20,
      "outputs": [
        {
          "output_type": "stream",
          "text": [
            "[('아버지', 'Noun'), ('가방', 'Noun'), ('에', 'Josa'), ('들어가다', 'Verb'), ('.', 'Punctuation')]\n"
          ],
          "name": "stdout"
        }
      ]
    },
    {
      "cell_type": "code",
      "metadata": {
        "id": "ROVVRaaRiWvB"
      },
      "source": [
        ""
      ],
      "execution_count": null,
      "outputs": []
    }
  ]
}